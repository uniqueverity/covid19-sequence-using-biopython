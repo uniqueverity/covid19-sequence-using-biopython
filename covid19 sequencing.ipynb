{
 "cells": [
  {
   "cell_type": "code",
   "execution_count": 4,
   "metadata": {},
   "outputs": [],
   "source": [
    "# NM_001385936.1\n",
    "# https://www.ncbi.nlm.nih.gov/nuccore/NM_001385936.1?report=fasta&log$=seqview \n"
   ]
  },
  {
   "cell_type": "markdown",
   "metadata": {},
   "source": [
    "#### **Introduction**\n",
    "This repository contains code and data for a COVID-19 sequencing and analysis project using Biopython. The project aims to determine the frequency of amino acids, AT and GC content, DNA composition, and generate bar plots to visualize the results.\n",
    "+ Table of Contents\n",
    "+ Background\n",
    "+ Installation\n",
    "+ Usage\n",
    "+ Data\n",
    "+ Methods\n",
    "+ Results\n",
    "+ Contributing\n",
    "+ License\n",
    "##### **Background**\n",
    "COVID-19, caused by the SARS-CoV-2 virus, is a global pandemic. Understanding the genetic makeup of the virus is crucial for research and vaccine development. This project focuses on analyzing COVID-19 sequences to gain insights into its genetic composition.\n",
    "\n",
    "Installation\n",
    "To begin, Biopython library needs to be  installed, and the subsequent libraries need to be imported."
   ]
  },
  {
   "cell_type": "code",
   "execution_count": 5,
   "metadata": {},
   "outputs": [
    {
     "name": "stdout",
     "output_type": "stream",
     "text": [
      "Requirement already satisfied: Biopython in c:\\users\\verity haruna\\appdata\\local\\programs\\python\\python311\\lib\\site-packages (1.81)\n",
      "Requirement already satisfied: numpy in c:\\users\\verity haruna\\appdata\\local\\programs\\python\\python311\\lib\\site-packages (from Biopython) (1.24.3)\n",
      "Note: you may need to restart the kernel to use updated packages.\n"
     ]
    },
    {
     "name": "stderr",
     "output_type": "stream",
     "text": [
      "\n",
      "[notice] A new release of pip is available: 23.1.2 -> 23.2.1\n",
      "[notice] To update, run: python.exe -m pip install --upgrade pip\n"
     ]
    }
   ],
   "source": [
    "pip install Biopython"
   ]
  },
  {
   "cell_type": "code",
   "execution_count": 6,
   "metadata": {},
   "outputs": [],
   "source": [
    "from Bio import SeqIO"
   ]
  },
  {
   "cell_type": "markdown",
   "metadata": {},
   "source": [
    "##### Data\n",
    "The Data used was gotten from NCBI."
   ]
  },
  {
   "cell_type": "code",
   "execution_count": 7,
   "metadata": {},
   "outputs": [
    {
     "data": {
      "text/plain": [
       "SeqRecord(seq=Seq('GTTCCCTCCTCCCTCGGCAGCCGCGGCGGCAGCAGGAGAAGGCGGCGGCGGCGG...AAA'), id='NM_001385936.1', name='NM_001385936.1', description='NM_001385936.1 Homo sapiens pleckstrin homology domain containing A5 (PLEKHA5), transcript variant 19, mRNA', dbxrefs=[])"
      ]
     },
     "execution_count": 7,
     "metadata": {},
     "output_type": "execute_result"
    }
   ],
   "source": [
    "# Reading the fasta file\n",
    "path = r\"c:\\Users\\VERITY HARUNA\\AppData\\Local\\Programs\\Python\\Python311\\Lib\\site-packages\\Bio\\SeqIO\\sequence.fasta\"\n",
    "covid_record = SeqIO.read(path,'fasta')\n",
    "covid_record"
   ]
  },
  {
   "cell_type": "code",
   "execution_count": 8,
   "metadata": {},
   "outputs": [
    {
     "data": {
      "text/plain": [
       "Seq('GTTCCCTCCTCCCTCGGCAGCCGCGGCGGCAGCAGGAGAAGGCGGCGGCGGCGG...AAA')"
      ]
     },
     "execution_count": 8,
     "metadata": {},
     "output_type": "execute_result"
    }
   ],
   "source": [
    "covid_dna = covid_record.seq\n",
    "covid_dna"
   ]
  },
  {
   "cell_type": "code",
   "execution_count": 9,
   "metadata": {},
   "outputs": [
    {
     "data": {
      "text/plain": [
       "4416"
      ]
     },
     "execution_count": 9,
     "metadata": {},
     "output_type": "execute_result"
    }
   ],
   "source": [
    "#len of DNA\n",
    "len(covid_dna)"
   ]
  },
  {
   "cell_type": "code",
   "execution_count": 10,
   "metadata": {},
   "outputs": [],
   "source": [
    "#Transcription \n",
    "# DNA to mRNA\n",
    "covid_mrna = covid_dna.transcribe()"
   ]
  },
  {
   "cell_type": "code",
   "execution_count": 11,
   "metadata": {},
   "outputs": [
    {
     "data": {
      "text/plain": [
       "Seq('GUUCCCUCCUCCCUCGGCAGCCGCGGCGGCAGCAGGAGAAGGCGGCGGCGGCGG...AAA')"
      ]
     },
     "execution_count": 11,
     "metadata": {},
     "output_type": "execute_result"
    }
   ],
   "source": [
    "covid_mrna"
   ]
  },
  {
   "cell_type": "code",
   "execution_count": 12,
   "metadata": {},
   "outputs": [],
   "source": [
    "# Translation \n",
    "# mRNA to AA\n",
    "covid_protein = covid_mrna.translate()"
   ]
  },
  {
   "cell_type": "code",
   "execution_count": 13,
   "metadata": {},
   "outputs": [
    {
     "data": {
      "text/plain": [
       "Seq('VPSSLGSRGGSRRRRRRRLGIRHGGGSEPGVDLPAPVLDLRDHQGRPSLLHQRG...VLK')"
      ]
     },
     "execution_count": 13,
     "metadata": {},
     "output_type": "execute_result"
    }
   ],
   "source": [
    "covid_protein"
   ]
  },
  {
   "cell_type": "markdown",
   "metadata": {},
   "source": [
    "### Sequence Analysis\n",
    "+ Freq of N/Bases and Amino Acid"
   ]
  },
  {
   "cell_type": "code",
   "execution_count": 14,
   "metadata": {},
   "outputs": [
    {
     "data": {
      "text/plain": [
       "Seq('GTTCCCTCCTCCCTCGGCAGCCGCGGCGGCAGCAGGAGAAGGCGGCGGCGGCGG...AAA')"
      ]
     },
     "execution_count": 14,
     "metadata": {},
     "output_type": "execute_result"
    }
   ],
   "source": [
    "# check for N or Base\n",
    "covid_dna"
   ]
  },
  {
   "cell_type": "code",
   "execution_count": 15,
   "metadata": {},
   "outputs": [],
   "source": [
    "from collections import Counter"
   ]
  },
  {
   "cell_type": "code",
   "execution_count": 16,
   "metadata": {},
   "outputs": [
    {
     "data": {
      "text/plain": [
       "Counter({'A': 1486, 'T': 1103, 'G': 947, 'C': 880})"
      ]
     },
     "execution_count": 16,
     "metadata": {},
     "output_type": "execute_result"
    }
   ],
   "source": [
    "covid_ncount = Counter(covid_dna)\n",
    "covid_ncount"
   ]
  },
  {
   "cell_type": "code",
   "execution_count": 17,
   "metadata": {},
   "outputs": [],
   "source": [
    "# plot\n",
    "import matplotlib.pyplot as plt"
   ]
  },
  {
   "cell_type": "code",
   "execution_count": 18,
   "metadata": {},
   "outputs": [
    {
     "data": {
      "text/plain": [
       "<BarContainer object of 4 artists>"
      ]
     },
     "execution_count": 18,
     "metadata": {},
     "output_type": "execute_result"
    },
    {
     "data": {
      "image/png": "[encoded data removed]",
      "text/plain": [
       "<Figure size 640x480 with 1 Axes>"
      ]
     },
     "metadata": {},
     "output_type": "display_data"
    }
   ],
   "source": [
    "plt.bar(covid_ncount.keys(), covid_ncount.values())"
   ]
  },
  {
   "cell_type": "code",
   "execution_count": 19,
   "metadata": {},
   "outputs": [],
   "source": [
    "# molecular weight\n",
    "from Bio.SeqUtils import molecular_weight"
   ]
  },
  {
   "cell_type": "code",
   "execution_count": 21,
   "metadata": {},
   "outputs": [
    {
     "data": {
      "text/plain": [
       "1367205.9451999879"
      ]
     },
     "execution_count": 21,
     "metadata": {},
     "output_type": "execute_result"
    }
   ],
   "source": [
    "molecular_weight(covid_dna)"
   ]
  },
  {
   "cell_type": "markdown",
   "metadata": {},
   "source": [
    "### DNA composition\n",
    "+ GC Content\n",
    "+ AT content"
   ]
  },
  {
   "cell_type": "code",
   "execution_count": 24,
   "metadata": {},
   "outputs": [],
   "source": [
    "# GC content\n",
    "from Bio.SeqUtils import GC, GC123, GC_skew, gc_fraction"
   ]
  },
  {
   "cell_type": "code",
   "execution_count": 26,
   "metadata": {},
   "outputs": [
    {
     "name": "stderr",
     "output_type": "stream",
     "text": [
      "c:\\Users\\VERITY HARUNA\\AppData\\Local\\Programs\\Python\\Python311\\Lib\\site-packages\\Bio\\SeqUtils\\__init__.py:144: BiopythonDeprecationWarning: GC is deprecated; please use gc_fraction instead.\n",
      "  warnings.warn(\n"
     ]
    },
    {
     "data": {
      "text/plain": [
       "41.37228260869565"
      ]
     },
     "execution_count": 26,
     "metadata": {},
     "output_type": "execute_result"
    }
   ],
   "source": [
    "GC(covid_dna)"
   ]
  },
  {
   "cell_type": "code",
   "execution_count": 27,
   "metadata": {},
   "outputs": [],
   "source": [
    "# AT cONTENT\n",
    "def at_content(seq):\n",
    "    result = float(seq.count('A')+seq.count('T'))/len(seq)*100\n",
    "    return result"
   ]
  },
  {
   "cell_type": "code",
   "execution_count": 28,
   "metadata": {},
   "outputs": [
    {
     "data": {
      "text/plain": [
       "58.627717391304344"
      ]
     },
     "execution_count": 28,
     "metadata": {},
     "output_type": "execute_result"
    }
   ],
   "source": [
    "at_content(covid_dna)"
   ]
  },
  {
   "cell_type": "code",
   "execution_count": 29,
   "metadata": {},
   "outputs": [
    {
     "data": {
      "text/plain": [
       "[0.11428571428571428,\n",
       " -0.1044776119402985,\n",
       " 0.14285714285714285,\n",
       " -0.024390243902439025,\n",
       " 0.15,\n",
       " 0.1111111111111111,\n",
       " 0.2857142857142857,\n",
       " -0.12195121951219512,\n",
       " 0.2558139534883721,\n",
       " -0.3939393939393939,\n",
       " 0.4,\n",
       " -0.043478260869565216,\n",
       " 0.02127659574468085,\n",
       " 0.23809523809523808,\n",
       " -0.16,\n",
       " 0.16981132075471697,\n",
       " -0.4418604651162791,\n",
       " -0.06382978723404255,\n",
       " -0.15789473684210525,\n",
       " -0.12195121951219512,\n",
       " 0.24324324324324326,\n",
       " 0.06976744186046512,\n",
       " 0.1111111111111111,\n",
       " 0.18181818181818182,\n",
       " 0.2653061224489796,\n",
       " 0.16666666666666666,\n",
       " 0.24324324324324326,\n",
       " -0.2727272727272727,\n",
       " 0.3333333333333333,\n",
       " 0.09090909090909091,\n",
       " 0.2,\n",
       " -0.15151515151515152,\n",
       " 0.15789473684210525,\n",
       " 0.02702702702702703,\n",
       " -0.23076923076923078,\n",
       " 0.0,\n",
       " 0.14285714285714285,\n",
       " -0.15789473684210525,\n",
       " 0.13333333333333333,\n",
       " -0.2,\n",
       " 0.1111111111111111,\n",
       " -0.125,\n",
       " 0.17647058823529413,\n",
       " -0.09090909090909091,\n",
       " 0.5]"
      ]
     },
     "execution_count": 29,
     "metadata": {},
     "output_type": "execute_result"
    }
   ],
   "source": [
    "# GC skew\n",
    "# lagging or leading strands\n",
    "GC_skew(covid_dna)"
   ]
  },
  {
   "cell_type": "code",
   "execution_count": 30,
   "metadata": {},
   "outputs": [],
   "source": [
    "from Bio.SeqUtils import MeltingTemp as mt"
   ]
  },
  {
   "cell_type": "code",
   "execution_count": 31,
   "metadata": {},
   "outputs": [
    {
     "data": {
      "text/plain": [
       "76.72966837632573"
      ]
     },
     "execution_count": 31,
     "metadata": {},
     "output_type": "execute_result"
    }
   ],
   "source": [
    "mt.Tm_GC(covid_dna)"
   ]
  },
  {
   "cell_type": "code",
   "execution_count": 32,
   "metadata": {},
   "outputs": [],
   "source": [
    "# check for number of Amino Acid present\n",
    "covid_pr_freq = Counter(covid_protein)\n"
   ]
  },
  {
   "cell_type": "code",
   "execution_count": 33,
   "metadata": {},
   "outputs": [
    {
     "data": {
      "text/plain": [
       "<BarContainer object of 21 artists>"
      ]
     },
     "execution_count": 33,
     "metadata": {},
     "output_type": "execute_result"
    },
    {
     "data": {
      "image/png": "[encoded data removed]",
      "text/plain": [
       "<Figure size 640x480 with 1 Axes>"
      ]
     },
     "metadata": {},
     "output_type": "display_data"
    }
   ],
   "source": [
    "plt.bar(covid_pr_freq.keys(), covid_pr_freq.values())"
   ]
  },
  {
   "cell_type": "code",
   "execution_count": 34,
   "metadata": {},
   "outputs": [
    {
     "data": {
      "text/plain": [
       "[('S', 144), ('R', 120), ('*', 105), ('K', 100), ('L', 94)]"
      ]
     },
     "execution_count": 34,
     "metadata": {},
     "output_type": "execute_result"
    }
   ],
   "source": [
    "# most common AA\n",
    "Counter(covid_protein).most_common(5)"
   ]
  },
  {
   "cell_type": "code",
   "execution_count": 35,
   "metadata": {},
   "outputs": [
    {
     "data": {
      "text/plain": [
       "[Seq('VPSSLGSRGGSRRRRRRRLGIRHGGGSEPGVDLPAPVLDLRDHQGRPSLLHQRG...IYF'),\n",
       " Seq('RCKILYKP'),\n",
       " Seq(''),\n",
       " Seq('KESDLQTSSHRTTITGQLYFCSE'),\n",
       " Seq('TDCCNHDI'),\n",
       " Seq('RKEGTANKYDK'),\n",
       " Seq('SF'),\n",
       " Seq('L'),\n",
       " Seq('RDFRLCSASNEPCRQNFTSFKKSS'),\n",
       " Seq('FWKEVKFN'),\n",
       " Seq('KES'),\n",
       " Seq('CTGCQTRLAL'),\n",
       " Seq('TGQYWHEIVEETLVCAF'),\n",
       " Seq('PLPLLL'),\n",
       " Seq('R'),\n",
       " Seq('ERRGYPGKHTVT'),\n",
       " Seq('FSDSFAYL'),\n",
       " Seq('RSH'),\n",
       " Seq('SQICF'),\n",
       " Seq('GSPSKHADLLFLH'),\n",
       " Seq('YRKGNGVVDESHVRCCPSTDRTCEKSGQDYI'),\n",
       " Seq('KCTN'),\n",
       " Seq('RNQ'),\n",
       " Seq('HSQP'),\n",
       " Seq('SAN'),\n",
       " Seq('TRDPKQSKKQGNEQN'),\n",
       " Seq('RKKGIRS'),\n",
       " Seq('KIWISEGWSR'),\n",
       " Seq('TLNKN'),\n",
       " Seq(''),\n",
       " Seq('CKAEFSAI'),\n",
       " Seq('I'),\n",
       " Seq('EWVSMPCSDCALQTNQLEQFREQNSQC'),\n",
       " Seq('PGRS'),\n",
       " Seq('RWKSPQYRALIHRGRSSHTENKFNAAVGTVD'),\n",
       " Seq('NPEGEGS'),\n",
       " Seq('RRNQGSNFLPNITKKYAKSQSPDYGPLP'),\n",
       " Seq('RL'),\n",
       " Seq('NTPKKQQDKA'),\n",
       " Seq('KYLQCNPFHS'),\n",
       " Seq('QDIRTRSGGETEVHER'),\n",
       " Seq('HNVAALRMAAASVL'),\n",
       " Seq('QTEHPPSTQYFE'),\n",
       " Seq('SQNHGKYF'),\n",
       " Seq('PDNALYSHITFPRVNSCLSGILPSTNLQIGSVFTNSERRCDNRPQTQGPSP'),\n",
       " Seq('ACLCA'),\n",
       " Seq('QKVSASWPDFTVC'),\n",
       " Seq('SPEPPRENDERK'),\n",
       " Seq('TYYHHGSHND'),\n",
       " Seq('ELGAKTPTVPAILKTEEQDKSILSVTR'),\n",
       " Seq('R'),\n",
       " Seq('RHIIQIQT'),\n",
       " Seq('RSRY'),\n",
       " Seq('CQVKPIM'),\n",
       " Seq('TR'),\n",
       " Seq('SGACSGRETSATPQGEIHA'),\n",
       " Seq('ASFAISQPRDRNACR'),\n",
       " Seq('PSSHSDSGVTKG'),\n",
       " Seq('FTKWTA'),\n",
       " Seq('YVSRTFSSHCRIGTSMERI'),\n",
       " Seq(''),\n",
       " Seq('VRIRCNCYQEPDARAAGSPW'),\n",
       " Seq('SSDGISRNSACTDSERTLANSGCHGRAE'),\n",
       " Seq('T'),\n",
       " Seq('AAKRYYRNRYDRIKAFLNS'),\n",
       " Seq('VQK'),\n",
       " Seq('GSRL'),\n",
       " Seq('TLQE'),\n",
       " Seq('TRVNNSGRS'),\n",
       " Seq(''),\n",
       " Seq('I'),\n",
       " Seq('WRRKIRTCFRDRNFSC'),\n",
       " Seq('RFPLSCWSSPSKSKITNTRIFDNSFLCNLEEN'),\n",
       " Seq('EDDGSKNGKTKKCSGTALFG'),\n",
       " Seq('KYSTKDDCGRANGKNKKTSTSVPEGEEKRVKCYRCFRPVTLTKPFKFKG'),\n",
       " Seq('SI'),\n",
       " Seq('DYSDSKEG'),\n",
       " Seq(''),\n",
       " Seq('GTGHCH'),\n",
       " Seq('RK'),\n",
       " Seq('CKARP'),\n",
       " Seq('NSCNRNCSTKRNRTPKCGLQQRVKKN'),\n",
       " Seq('KHFI'),\n",
       " Seq('NAF'),\n",
       " Seq('T'),\n",
       " Seq('AKWSKFCGNDG'),\n",
       " Seq('RKKQRQNA'),\n",
       " Seq('GCYIQPSR'),\n",
       " Seq('NTDRKS'),\n",
       " Seq('TRRAS'),\n",
       " Seq('RKYKEQC'),\n",
       " Seq('RTGRNCYFLRINS'),\n",
       " Seq('GF'),\n",
       " Seq('RKSNNGSEKSVPIS'),\n",
       " Seq('VLGIASSIHSAAAHRRITFHVCVVLEELY'),\n",
       " Seq('LLLKPFKAKDMDLQQCKKILYSIF'),\n",
       " Seq('IYEIHSSDAFGHRASFYHFWKMFIPKQL'),\n",
       " Seq('WPICTLRNLKVIILTPACCYDFRAHK'),\n",
       " Seq('RCFLMCSLFPELT'),\n",
       " Seq('LLISRFRCFLSLGEFIYIFFCFSFSKVSYYFH'),\n",
       " Seq('SLFSFFSSHFSYCSAFVSHLICKNFIYMYLKCAILLLSEVCPVFCYNSFSVRLQ...NKV'),\n",
       " Seq('VF'),\n",
       " Seq('STGLIFHWNTCVQQ'),\n",
       " Seq('AGFQIRYLVCVQM'),\n",
       " Seq('LCSLCIYYTMSTCNVLKATYYCLNANVHISFLFLSC'),\n",
       " Seq('INVDVLK')]"
      ]
     },
     "execution_count": 35,
     "metadata": {},
     "output_type": "execute_result"
    }
   ],
   "source": [
    "# longest seq AA befoore a stop codon \n",
    "covid_clean = covid_protein.split(\"*\")\n",
    "covid_clean"
   ]
  },
  {
   "cell_type": "code",
   "execution_count": 36,
   "metadata": {},
   "outputs": [
    {
     "data": {
      "text/plain": [
       "['VPSSLGSRGGSRRRRRRRLGIRHGGGSEPGVDLPAPVLDLRDHQGRPSLLHQRGGQEHHLAAPRHRRGGGHRTPAAEHRFAYWLGRSIYF',\n",
       " 'RCKILYKP',\n",
       " '',\n",
       " 'KESDLQTSSHRTTITGQLYFCSE',\n",
       " 'TDCCNHDI',\n",
       " 'RKEGTANKYDK',\n",
       " 'SF',\n",
       " 'L',\n",
       " 'RDFRLCSASNEPCRQNFTSFKKSS',\n",
       " 'FWKEVKFN',\n",
       " 'KES',\n",
       " 'CTGCQTRLAL',\n",
       " 'TGQYWHEIVEETLVCAF',\n",
       " 'PLPLLL',\n",
       " 'R',\n",
       " 'ERRGYPGKHTVT',\n",
       " 'FSDSFAYL',\n",
       " 'RSH',\n",
       " 'SQICF',\n",
       " 'GSPSKHADLLFLH',\n",
       " 'YRKGNGVVDESHVRCCPSTDRTCEKSGQDYI',\n",
       " 'KCTN',\n",
       " 'RNQ',\n",
       " 'HSQP',\n",
       " 'SAN',\n",
       " 'TRDPKQSKKQGNEQN',\n",
       " 'RKKGIRS',\n",
       " 'KIWISEGWSR',\n",
       " 'TLNKN',\n",
       " '',\n",
       " 'CKAEFSAI',\n",
       " 'I',\n",
       " 'EWVSMPCSDCALQTNQLEQFREQNSQC',\n",
       " 'PGRS',\n",
       " 'RWKSPQYRALIHRGRSSHTENKFNAAVGTVD',\n",
       " 'NPEGEGS',\n",
       " 'RRNQGSNFLPNITKKYAKSQSPDYGPLP',\n",
       " 'RL',\n",
       " 'NTPKKQQDKA',\n",
       " 'KYLQCNPFHS',\n",
       " 'QDIRTRSGGETEVHER',\n",
       " 'HNVAALRMAAASVL',\n",
       " 'QTEHPPSTQYFE',\n",
       " 'SQNHGKYF',\n",
       " 'PDNALYSHITFPRVNSCLSGILPSTNLQIGSVFTNSERRCDNRPQTQGPSP',\n",
       " 'ACLCA',\n",
       " 'QKVSASWPDFTVC',\n",
       " 'SPEPPRENDERK',\n",
       " 'TYYHHGSHND',\n",
       " 'ELGAKTPTVPAILKTEEQDKSILSVTR',\n",
       " 'R',\n",
       " 'RHIIQIQT',\n",
       " 'RSRY',\n",
       " 'CQVKPIM',\n",
       " 'TR',\n",
       " 'SGACSGRETSATPQGEIHA',\n",
       " 'ASFAISQPRDRNACR',\n",
       " 'PSSHSDSGVTKG',\n",
       " 'FTKWTA',\n",
       " 'YVSRTFSSHCRIGTSMERI',\n",
       " '',\n",
       " 'VRIRCNCYQEPDARAAGSPW',\n",
       " 'SSDGISRNSACTDSERTLANSGCHGRAE',\n",
       " 'T',\n",
       " 'AAKRYYRNRYDRIKAFLNS',\n",
       " 'VQK',\n",
       " 'GSRL',\n",
       " 'TLQE',\n",
       " 'TRVNNSGRS',\n",
       " '',\n",
       " 'I',\n",
       " 'WRRKIRTCFRDRNFSC',\n",
       " 'RFPLSCWSSPSKSKITNTRIFDNSFLCNLEEN',\n",
       " 'EDDGSKNGKTKKCSGTALFG',\n",
       " 'KYSTKDDCGRANGKNKKTSTSVPEGEEKRVKCYRCFRPVTLTKPFKFKG',\n",
       " 'SI',\n",
       " 'DYSDSKEG',\n",
       " '',\n",
       " 'GTGHCH',\n",
       " 'RK',\n",
       " 'CKARP',\n",
       " 'NSCNRNCSTKRNRTPKCGLQQRVKKN',\n",
       " 'KHFI',\n",
       " 'NAF',\n",
       " 'T',\n",
       " 'AKWSKFCGNDG',\n",
       " 'RKKQRQNA',\n",
       " 'GCYIQPSR',\n",
       " 'NTDRKS',\n",
       " 'TRRAS',\n",
       " 'RKYKEQC',\n",
       " 'RTGRNCYFLRINS',\n",
       " 'GF',\n",
       " 'RKSNNGSEKSVPIS',\n",
       " 'VLGIASSIHSAAAHRRITFHVCVVLEELY',\n",
       " 'LLLKPFKAKDMDLQQCKKILYSIF',\n",
       " 'IYEIHSSDAFGHRASFYHFWKMFIPKQL',\n",
       " 'WPICTLRNLKVIILTPACCYDFRAHK',\n",
       " 'RCFLMCSLFPELT',\n",
       " 'LLISRFRCFLSLGEFIYIFFCFSFSKVSYYFH',\n",
       " 'SLFSFFSSHFSYCSAFVSHLICKNFIYMYLKCAILLLSEVCPVFCYNSFSVRLQCQQLLPHSCQLKHKCYCLSFLKKKKNKV',\n",
       " 'VF',\n",
       " 'STGLIFHWNTCVQQ',\n",
       " 'AGFQIRYLVCVQM',\n",
       " 'LCSLCIYYTMSTCNVLKATYYCLNANVHISFLFLSC',\n",
       " 'INVDVLK']"
      ]
     },
     "execution_count": 36,
     "metadata": {},
     "output_type": "execute_result"
    }
   ],
   "source": [
    "covid_clean = [ str(i) for i in covid_clean]\n",
    "covid_clean"
   ]
  },
  {
   "cell_type": "code",
   "execution_count": 37,
   "metadata": {},
   "outputs": [],
   "source": [
    "import pandas as pd\n",
    "df = pd.DataFrame({\"amino_acids\": covid_clean})"
   ]
  },
  {
   "cell_type": "code",
   "execution_count": 38,
   "metadata": {},
   "outputs": [],
   "source": [
    "df['count'] = df['amino_acids'].str.len()"
   ]
  },
  {
   "cell_type": "code",
   "execution_count": 39,
   "metadata": {},
   "outputs": [
    {
     "data": {
      "text/html": [
       "<div>\n",
       "<style scoped>\n",
       "    .dataframe tbody tr th:only-of-type {\n",
       "        vertical-align: middle;\n",
       "    }\n",
       "\n",
       "    .dataframe tbody tr th {\n",
       "        vertical-align: top;\n",
       "    }\n",
       "\n",
       "    .dataframe thead th {\n",
       "        text-align: right;\n",
       "    }\n",
       "</style>\n",
       "<table border=\"1\" class=\"dataframe\">\n",
       "  <thead>\n",
       "    <tr style=\"text-align: right;\">\n",
       "      <th></th>\n",
       "      <th>amino_acids</th>\n",
       "      <th>count</th>\n",
       "    </tr>\n",
       "  </thead>\n",
       "  <tbody>\n",
       "    <tr>\n",
       "      <th>0</th>\n",
       "      <td>VPSSLGSRGGSRRRRRRRLGIRHGGGSEPGVDLPAPVLDLRDHQGR...</td>\n",
       "      <td>90</td>\n",
       "    </tr>\n",
       "    <tr>\n",
       "      <th>1</th>\n",
       "      <td>RCKILYKP</td>\n",
       "      <td>8</td>\n",
       "    </tr>\n",
       "    <tr>\n",
       "      <th>2</th>\n",
       "      <td></td>\n",
       "      <td>0</td>\n",
       "    </tr>\n",
       "    <tr>\n",
       "      <th>3</th>\n",
       "      <td>KESDLQTSSHRTTITGQLYFCSE</td>\n",
       "      <td>23</td>\n",
       "    </tr>\n",
       "    <tr>\n",
       "      <th>4</th>\n",
       "      <td>TDCCNHDI</td>\n",
       "      <td>8</td>\n",
       "    </tr>\n",
       "  </tbody>\n",
       "</table>\n",
       "</div>"
      ],
      "text/plain": [
       "                                         amino_acids  count\n",
       "0  VPSSLGSRGGSRRRRRRRLGIRHGGGSEPGVDLPAPVLDLRDHQGR...     90\n",
       "1                                           RCKILYKP      8\n",
       "2                                                         0\n",
       "3                            KESDLQTSSHRTTITGQLYFCSE     23\n",
       "4                                           TDCCNHDI      8"
      ]
     },
     "execution_count": 39,
     "metadata": {},
     "output_type": "execute_result"
    }
   ],
   "source": [
    "df.head()"
   ]
  },
  {
   "cell_type": "code",
   "execution_count": 41,
   "metadata": {},
   "outputs": [
    {
     "data": {
      "text/html": [
       "<div>\n",
       "<style scoped>\n",
       "    .dataframe tbody tr th:only-of-type {\n",
       "        vertical-align: middle;\n",
       "    }\n",
       "\n",
       "    .dataframe tbody tr th {\n",
       "        vertical-align: top;\n",
       "    }\n",
       "\n",
       "    .dataframe thead th {\n",
       "        text-align: right;\n",
       "    }\n",
       "</style>\n",
       "<table border=\"1\" class=\"dataframe\">\n",
       "  <thead>\n",
       "    <tr style=\"text-align: right;\">\n",
       "      <th></th>\n",
       "      <th>amino_acids</th>\n",
       "      <th>count</th>\n",
       "    </tr>\n",
       "  </thead>\n",
       "  <tbody>\n",
       "    <tr>\n",
       "      <th>0</th>\n",
       "      <td>VPSSLGSRGGSRRRRRRRLGIRHGGGSEPGVDLPAPVLDLRDHQGR...</td>\n",
       "      <td>90</td>\n",
       "    </tr>\n",
       "    <tr>\n",
       "      <th>100</th>\n",
       "      <td>SLFSFFSSHFSYCSAFVSHLICKNFIYMYLKCAILLLSEVCPVFCY...</td>\n",
       "      <td>82</td>\n",
       "    </tr>\n",
       "    <tr>\n",
       "      <th>44</th>\n",
       "      <td>PDNALYSHITFPRVNSCLSGILPSTNLQIGSVFTNSERRCDNRPQT...</td>\n",
       "      <td>51</td>\n",
       "    </tr>\n",
       "    <tr>\n",
       "      <th>74</th>\n",
       "      <td>KYSTKDDCGRANGKNKKTSTSVPEGEEKRVKCYRCFRPVTLTKPFKFKG</td>\n",
       "      <td>49</td>\n",
       "    </tr>\n",
       "    <tr>\n",
       "      <th>104</th>\n",
       "      <td>LCSLCIYYTMSTCNVLKATYYCLNANVHISFLFLSC</td>\n",
       "      <td>36</td>\n",
       "    </tr>\n",
       "    <tr>\n",
       "      <th>72</th>\n",
       "      <td>RFPLSCWSSPSKSKITNTRIFDNSFLCNLEEN</td>\n",
       "      <td>32</td>\n",
       "    </tr>\n",
       "    <tr>\n",
       "      <th>99</th>\n",
       "      <td>LLISRFRCFLSLGEFIYIFFCFSFSKVSYYFH</td>\n",
       "      <td>32</td>\n",
       "    </tr>\n",
       "    <tr>\n",
       "      <th>20</th>\n",
       "      <td>YRKGNGVVDESHVRCCPSTDRTCEKSGQDYI</td>\n",
       "      <td>31</td>\n",
       "    </tr>\n",
       "    <tr>\n",
       "      <th>34</th>\n",
       "      <td>RWKSPQYRALIHRGRSSHTENKFNAAVGTVD</td>\n",
       "      <td>31</td>\n",
       "    </tr>\n",
       "    <tr>\n",
       "      <th>94</th>\n",
       "      <td>VLGIASSIHSAAAHRRITFHVCVVLEELY</td>\n",
       "      <td>29</td>\n",
       "    </tr>\n",
       "  </tbody>\n",
       "</table>\n",
       "</div>"
      ],
      "text/plain": [
       "                                           amino_acids  count\n",
       "0    VPSSLGSRGGSRRRRRRRLGIRHGGGSEPGVDLPAPVLDLRDHQGR...     90\n",
       "100  SLFSFFSSHFSYCSAFVSHLICKNFIYMYLKCAILLLSEVCPVFCY...     82\n",
       "44   PDNALYSHITFPRVNSCLSGILPSTNLQIGSVFTNSERRCDNRPQT...     51\n",
       "74   KYSTKDDCGRANGKNKKTSTSVPEGEEKRVKCYRCFRPVTLTKPFKFKG     49\n",
       "104               LCSLCIYYTMSTCNVLKATYYCLNANVHISFLFLSC     36\n",
       "72                    RFPLSCWSSPSKSKITNTRIFDNSFLCNLEEN     32\n",
       "99                    LLISRFRCFLSLGEFIYIFFCFSFSKVSYYFH     32\n",
       "20                     YRKGNGVVDESHVRCCPSTDRTCEKSGQDYI     31\n",
       "34                     RWKSPQYRALIHRGRSSHTENKFNAAVGTVD     31\n",
       "94                       VLGIASSIHSAAAHRRITFHVCVVLEELY     29"
      ]
     },
     "execution_count": 41,
     "metadata": {},
     "output_type": "execute_result"
    }
   ],
   "source": [
    "df.nlargest(10, 'count')"
   ]
  },
  {
   "cell_type": "code",
   "execution_count": null,
   "metadata": {},
   "outputs": [],
   "source": []
  }
 ],
 "metadata": {
  "kernelspec": {
   "display_name": "Python 3",
   "language": "python",
   "name": "python3"
  },
  "language_info": {
   "codemirror_mode": {
    "name": "ipython",
    "version": 3
   },
   "file_extension": ".py",
   "mimetype": "text/x-python",
   "name": "python",
   "nbconvert_exporter": "python",
   "pygments_lexer": "ipython3",
   "version": "3.11.3"
  },
  "orig_nbformat": 4
 },
 "nbformat": 4,
 "nbformat_minor": 2
}
